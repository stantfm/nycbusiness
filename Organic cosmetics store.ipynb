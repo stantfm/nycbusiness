{
    "cells": [
        {
            "cell_type": "code",
            "execution_count": null,
            "metadata": {
                "collapsed": true
            },
            "outputs": [],
            "source": "# 1) ITNRODUCTION / BUSINESS PROBLEM\n\n# I have just started my organic cosmetics company. I already have the prototypes for the cosmetics and a great website but am now looking for a good small commercial store in New York City from where I can start selling my physical products.\n\n# Here the criterias I am looking for to find the best possible location for my organic cosmetics shop:\n\n# - Space Size: between 300 and 700 square feet\n# - Location should be near other commercial stores in NYC\n# - Rent price: the least expensive as possible\n# - Location should be near places that have been rated by people who like organic products\n\n# To find the best possible place I will use Foursquare location data and people's reviews. \n\n\n\n# 2) DATA SECTION => Examples of Foursquare data I am planning to use:\n# Venues in NYC that are for commercial use between 300 and 700 feet big\n# Venues that are located / concentrated around other venues\n# The Price of Venues with the lowest as possible rent if I can find it\n# look at Venues that have been highly rated by users\n# Users who like and have reviewed organic products in NYC to find out where these places and people are\n"
        }
    ],
    "metadata": {
        "kernelspec": {
            "display_name": "Python 3.7",
            "language": "python",
            "name": "python3"
        },
        "language_info": {
            "codemirror_mode": {
                "name": "ipython",
                "version": 3
            },
            "file_extension": ".py",
            "mimetype": "text/x-python",
            "name": "python",
            "nbconvert_exporter": "python",
            "pygments_lexer": "ipython3",
            "version": "3.7.9"
        }
    },
    "nbformat": 4,
    "nbformat_minor": 1
}